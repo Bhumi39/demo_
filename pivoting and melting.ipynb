{
 "cells": [
  {
   "cell_type": "code",
   "execution_count": 17,
   "id": "632d444a",
   "metadata": {},
   "outputs": [],
   "source": [
    "import numpy as np \n",
    "import pandas as pd"
   ]
  },
  {
   "cell_type": "code",
   "execution_count": 41,
   "id": "38db8566",
   "metadata": {},
   "outputs": [
    {
     "name": "stdout",
     "output_type": "stream",
     "text": [
      "  keys    Name houses grades\n",
      "0   k1    john    red      A\n",
      "1   k2     ben   blue      B\n",
      "2   k3     sam   elow      C\n",
      "3   k4  harshu  brown      D\n",
      "\n",
      "\n",
      "     houses                   grades                 \n",
      "Name    ben harshu john   sam    ben harshu john  sam\n",
      "keys                                                 \n",
      "k1      NaN    NaN  red   NaN    NaN    NaN    A  NaN\n",
      "k2     blue    NaN  NaN   NaN      B    NaN  NaN  NaN\n",
      "k3      NaN    NaN  NaN  elow    NaN    NaN  NaN    C\n",
      "k4      NaN  brown  NaN   NaN    NaN      D  NaN  NaN\n"
     ]
    }
   ],
   "source": [
    "data={\"keys\":[\"k1\",\"k2\",\"k3\",\"k4\"],\n",
    "      \"Name\":[\"john\",\"ben\",\"sam\",\"harshu\"],\n",
    "      \"houses\":[\"red\",\"blue\",\"elow\",\"brown\"],\n",
    "      \"grades\":[\"A\",\"B\",\"C\",\"D\"]}\n",
    "df=pd.DataFrame(data)\n",
    "print(df)\n",
    "print(\"\")\n",
    "print(\"\")\n",
    "print(df.pivot(index=\"keys\", columns=\"Name\", values=[\"houses\",\"grades\"]))"
   ]
  },
  {
   "cell_type": "code",
   "execution_count": 52,
   "id": "024ce510",
   "metadata": {},
   "outputs": [
    {
     "name": "stdout",
     "output_type": "stream",
     "text": [
      "  keys    Name houses grades\n",
      "0   k1    john    red      A\n",
      "1   k2     ben   blue      B\n",
      "2   k3     sam   elow      C\n",
      "3   k4  harshu  brown      D\n",
      "\n",
      "     Name keys houses&grades value_names\n",
      "0    john   k1        houses         red\n",
      "1     ben   k2        houses        blue\n",
      "2     sam   k3        houses        elow\n",
      "3  harshu   k4        houses       brown\n",
      "4    john   k1        grades           A\n",
      "5     ben   k2        grades           B\n",
      "6     sam   k3        grades           C\n",
      "7  harshu   k4        grades           D\n"
     ]
    }
   ],
   "source": [
    "#melting\n",
    "data={\"keys\":[\"k1\",\"k2\",\"k3\",\"k4\"],\n",
    "      \"Name\":[\"john\",\"ben\",\"sam\",\"harshu\"],\n",
    "      \"houses\":[\"red\",\"blue\",\"elow\",\"brown\"],\n",
    "      \"grades\":[\"A\",\"B\",\"C\",\"D\"]}\n",
    "df=pd.DataFrame(data)\n",
    "print(df)\n",
    "print(\"\")\n",
    "print(df.melt(id_vars=[\"Name\",\"keys\"],value_vars=[\"houses\",\"grades\"],var_name=\"houses&grades\",value_name=\"value_names\"))"
   ]
  },
  {
   "cell_type": "code",
   "execution_count": null,
   "id": "91a692fc",
   "metadata": {},
   "outputs": [],
   "source": []
  },
  {
   "cell_type": "code",
   "execution_count": null,
   "id": "5267cf4b",
   "metadata": {},
   "outputs": [],
   "source": []
  },
  {
   "cell_type": "code",
   "execution_count": null,
   "id": "461469bd",
   "metadata": {},
   "outputs": [],
   "source": []
  },
  {
   "cell_type": "code",
   "execution_count": null,
   "id": "62dcf9c0",
   "metadata": {},
   "outputs": [],
   "source": []
  }
 ],
 "metadata": {
  "kernelspec": {
   "display_name": "myenv",
   "language": "python",
   "name": "python3"
  },
  "language_info": {
   "codemirror_mode": {
    "name": "ipython",
    "version": 3
   },
   "file_extension": ".py",
   "mimetype": "text/x-python",
   "name": "python",
   "nbconvert_exporter": "python",
   "pygments_lexer": "ipython3",
   "version": "3.13.3"
  }
 },
 "nbformat": 4,
 "nbformat_minor": 5
}
